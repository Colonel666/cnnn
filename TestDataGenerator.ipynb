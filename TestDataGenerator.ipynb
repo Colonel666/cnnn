{
  "cells": [
    {
      "metadata": {
        "trusted": true
      },
      "cell_type": "code",
      "source": "import utils\nfrom generator import Img_DataGenerator",
      "execution_count": 1,
      "outputs": [
        {
          "output_type": "stream",
          "text": "Using TensorFlow backend.\n",
          "name": "stderr"
        }
      ]
    },
    {
      "metadata": {
        "trusted": true
      },
      "cell_type": "code",
      "source": "set_name_list = ['Train', 'Val', 'Test']\nbatch_size = 16\nnr_labels = 3\n\n\n# shuffle currently NEEDS to be False (otherwise prediction does'nt work)\n# TODO: Sort out data generator\nparams = {'dim': (224,224),\n          'batch_size': batch_size,\n          'n_classes': nr_labels,\n          'n_channels': 3,\n          'shuffle': True}",
      "execution_count": 2,
      "outputs": []
    },
    {
      "metadata": {
        "trusted": true
      },
      "cell_type": "code",
      "source": "# The directory where the images are stored\nimg_data_directory = ''\n\n# The lists for paths to training, validation and test data \ntrain_data_list, val_data_list, test_data_list, labels_dict = \\\nutils.get_img_data(img_data_directory, set_name_list)",
      "execution_count": 3,
      "outputs": []
    },
    {
      "metadata": {
        "trusted": true
      },
      "cell_type": "code",
      "source": "print('Image paths in train_data_list ', len(train_data_list))\nprint('Image paths in val_data_list ', len(val_data_list))\nprint('Image paths in test_data_list ', len(test_data_list))",
      "execution_count": 4,
      "outputs": [
        {
          "output_type": "stream",
          "text": "Image paths in train_data_list  2248\nImage paths in val_data_list  482\nImage paths in test_data_list  480\n",
          "name": "stdout"
        }
      ]
    },
    {
      "metadata": {
        "trusted": true
      },
      "cell_type": "code",
      "source": "def get_img_data_generator(id_list):\n    return Img_DataGenerator(id_list, labels_dict, **params)\n\n\ntrain_generator = get_img_data_generator(train_data_list)\nval_generator = get_img_data_generator(val_data_list)\ntest_generator = get_img_data_generator(test_data_list)",
      "execution_count": 5,
      "outputs": []
    },
    {
      "metadata": {
        "trusted": true
      },
      "cell_type": "code",
      "source": "train_generator[0][0].shape",
      "execution_count": 6,
      "outputs": [
        {
          "output_type": "execute_result",
          "execution_count": 6,
          "data": {
            "text/plain": "(16, 224, 224, 3)"
          },
          "metadata": {}
        }
      ]
    },
    {
      "metadata": {
        "trusted": true
      },
      "cell_type": "code",
      "source": "num_batches = int(len(train_data_list) / batch_size)\n\nfor i in range(num_batches):\n    for j in range(batch_size):\n        #print(train_generator[i][0][j].shape)\n        assert(train_generator[i][0][j].shape == (224,224,3))",
      "execution_count": 8,
      "outputs": []
    },
    {
      "metadata": {
        "trusted": true
      },
      "cell_type": "code",
      "source": "",
      "execution_count": null,
      "outputs": []
    }
  ],
  "metadata": {
    "kernelspec": {
      "name": "python36",
      "display_name": "Python 3.6",
      "language": "python"
    },
    "language_info": {
      "mimetype": "text/x-python",
      "nbconvert_exporter": "python",
      "name": "python",
      "pygments_lexer": "ipython3",
      "version": "3.6.6",
      "file_extension": ".py",
      "codemirror_mode": {
        "version": 3,
        "name": "ipython"
      }
    }
  },
  "nbformat": 4,
  "nbformat_minor": 2
}